{
 "cells": [
  {
   "cell_type": "markdown",
   "id": "9e7dc038",
   "metadata": {},
   "source": [
    "# Single "
   ]
  },
  {
   "cell_type": "code",
   "execution_count": 1,
   "id": "f44bda21",
   "metadata": {},
   "outputs": [
    {
     "name": "stdout",
     "output_type": "stream",
     "text": [
      "Method 1\n",
      "Method 2\n"
     ]
    }
   ],
   "source": [
    "class A1:\n",
    "    def meth1(self):\n",
    "        print(\"Method 1\")\n",
    "class A2(A1):\n",
    "    def meth2(self):\n",
    "        print(\"Method 2\")\n",
    "        \n",
    "        \n",
    "a2 = A2()\n",
    "a2.meth1()\n",
    "a2.meth2()\n"
   ]
  }
 ],
 "metadata": {
  "kernelspec": {
   "display_name": "Python 3 (ipykernel)",
   "language": "python",
   "name": "python3"
  },
  "language_info": {
   "codemirror_mode": {
    "name": "ipython",
    "version": 3
   },
   "file_extension": ".py",
   "mimetype": "text/x-python",
   "name": "python",
   "nbconvert_exporter": "python",
   "pygments_lexer": "ipython3",
   "version": "3.10.0"
  }
 },
 "nbformat": 4,
 "nbformat_minor": 5
}
