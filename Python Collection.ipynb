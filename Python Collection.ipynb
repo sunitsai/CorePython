{
 "cells": [
  {
   "cell_type": "markdown",
   "id": "57dcde04",
   "metadata": {},
   "source": [
    "# How to create List ?"
   ]
  },
  {
   "cell_type": "code",
   "execution_count": 2,
   "id": "8a6468f8",
   "metadata": {},
   "outputs": [
    {
     "name": "stdout",
     "output_type": "stream",
     "text": [
      "List :  ['Panner', 'Kaju Curry', 'Sandwich', 'A', 'B', 'C', 1, 2, 3, 2, 10.5, 11.5, 12.5]\n"
     ]
    }
   ],
   "source": [
    "l1 = [\"Panner\",\"Kaju Curry\",\"Sandwich\",'A','B','C',1,2,3,2,10.5,11.5,12.5]\n",
    "print(\"List : \",l1)"
   ]
  },
  {
   "cell_type": "markdown",
   "id": "579995cd",
   "metadata": {},
   "source": [
    "# How to create Tuple?"
   ]
  },
  {
   "cell_type": "code",
   "execution_count": 5,
   "id": "493fed40",
   "metadata": {},
   "outputs": [
    {
     "name": "stdout",
     "output_type": "stream",
     "text": [
      "('Panner', 'Kaju Curry', 'Sandwich', 'A', 'B', 'C', 1, 2, 3, 2, 10.5, 11.5, 12.5)\n"
     ]
    }
   ],
   "source": [
    "t1 = (\"Panner\",\"Kaju Curry\",\"Sandwich\",'A','B','C',1,2,3,2,10.5,11.5,12.5)\n",
    "print(t1)"
   ]
  },
  {
   "cell_type": "markdown",
   "id": "29a1bfa3",
   "metadata": {},
   "source": [
    "# How to create Dictionary?"
   ]
  },
  {
   "cell_type": "code",
   "execution_count": 7,
   "id": "42d99c71",
   "metadata": {},
   "outputs": [
    {
     "name": "stdout",
     "output_type": "stream",
     "text": [
      "Dict :  {1: 'Python', 2: 'Java', 'Php': 'Language', 'A': 'B', 'C': 'D', 10.5: 11.5, 12.5: 13.5}\n"
     ]
    }
   ],
   "source": [
    "d1 = {1:\"Python\",2:\"Java\",\"Php\":\"Language\",'A':'B','C':'D',10.5:11.5,12.5:13.5}\n",
    "print(\"Dict : \",d1)"
   ]
  },
  {
   "cell_type": "markdown",
   "id": "78a5926c",
   "metadata": {},
   "source": [
    "# How to create Set?"
   ]
  },
  {
   "cell_type": "code",
   "execution_count": 8,
   "id": "b2ca4e35",
   "metadata": {},
   "outputs": [
    {
     "name": "stdout",
     "output_type": "stream",
     "text": [
      "{1, 2, 3, 4, 5, 'Java', 10.5, 11.5, 12.5, 'Python', 'B', 'Php', 'A', 'D'}\n"
     ]
    }
   ],
   "source": [
    "s1 = {1,2,3,4,5,2,'A','B','D',\"Python\",\"Java\",\"Php\",10.5,11.5,12.5}\n",
    "print(s1)"
   ]
  }
 ],
 "metadata": {
  "kernelspec": {
   "display_name": "Python 3 (ipykernel)",
   "language": "python",
   "name": "python3"
  },
  "language_info": {
   "codemirror_mode": {
    "name": "ipython",
    "version": 3
   },
   "file_extension": ".py",
   "mimetype": "text/x-python",
   "name": "python",
   "nbconvert_exporter": "python",
   "pygments_lexer": "ipython3",
   "version": "3.10.0"
  }
 },
 "nbformat": 4,
 "nbformat_minor": 5
}
