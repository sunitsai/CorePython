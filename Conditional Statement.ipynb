{
 "cells": [
  {
   "cell_type": "markdown",
   "id": "91ff7dd9",
   "metadata": {},
   "source": [
    "# If_Else"
   ]
  },
  {
   "cell_type": "code",
   "execution_count": 3,
   "id": "03b5ba34",
   "metadata": {},
   "outputs": [
    {
     "name": "stdout",
     "output_type": "stream",
     "text": [
      "Value 1 : 5\n",
      "Odd\n"
     ]
    }
   ],
   "source": [
    "val1 = int(input(\"Value 1 : \"))\n",
    "\n",
    "if val1%2==0:\n",
    "    print(\"Even\")\n",
    "else:\n",
    "    print(\"Odd\")"
   ]
  },
  {
   "cell_type": "markdown",
   "id": "ee82abe5",
   "metadata": {},
   "source": [
    "# If Else Ladder"
   ]
  },
  {
   "cell_type": "code",
   "execution_count": 1,
   "id": "5f5f6c41",
   "metadata": {},
   "outputs": [
    {
     "name": "stdout",
     "output_type": "stream",
     "text": [
      "Percentage : 45\n",
      "Fail\n"
     ]
    }
   ],
   "source": [
    "per = float(input(\"Percentage : \"))\n",
    "\n",
    "if per>70:\n",
    "    print(\"Dist\")\n",
    "    \n",
    "elif per>=65 and per<70:\n",
    "    print(\"1st Class\")\n",
    "    \n",
    "elif per>=60 and per<65:\n",
    "    print(\"2nd Class\")\n",
    "        \n",
    "elif per>=55 and per<60:\n",
    "    print(\"3rd Class\")\n",
    "else:\n",
    "    print(\"Fail\")"
   ]
  },
  {
   "cell_type": "markdown",
   "id": "eccd9bfb",
   "metadata": {},
   "source": [
    "# Pizza"
   ]
  },
  {
   "cell_type": "code",
   "execution_count": null,
   "id": "e50481d1",
   "metadata": {},
   "outputs": [],
   "source": [
    "vec = input(\"You have vechical : Yes / NO\")\n",
    "if vec == \"yes\":\n",
    "    size = input(\"Enter Size of PIZZA : \")\n",
    "    if size == \"small\":\n",
    "        qty = int(input(\"Qty : \"))\n",
    "        if qty == 4:\n",
    "            print(\"500 ml Pepsi free\")\n",
    "    elif size == \"Medium\":\n",
    "        \n",
    "    \n",
    "else:\n",
    "    print(\"Sorry you can't buy a PIZZA\")"
   ]
  }
 ],
 "metadata": {
  "kernelspec": {
   "display_name": "Python 3 (ipykernel)",
   "language": "python",
   "name": "python3"
  },
  "language_info": {
   "codemirror_mode": {
    "name": "ipython",
    "version": 3
   },
   "file_extension": ".py",
   "mimetype": "text/x-python",
   "name": "python",
   "nbconvert_exporter": "python",
   "pygments_lexer": "ipython3",
   "version": "3.10.0"
  }
 },
 "nbformat": 4,
 "nbformat_minor": 5
}
