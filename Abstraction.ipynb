{
 "cells": [
  {
   "cell_type": "code",
   "execution_count": 1,
   "id": "3bc179ed",
   "metadata": {},
   "outputs": [
    {
     "name": "stdout",
     "output_type": "stream",
     "text": [
      "SBI 5%\n",
      "HDFC 7%\n"
     ]
    }
   ],
   "source": [
    "class RBI:\n",
    "    def Interest(self):\n",
    "        pass\n",
    "    \n",
    "class SBI(RBI):\n",
    "    def Interest(self):\n",
    "        print(\"SBI 5%\")\n",
    "        \n",
    "class HDFC(RBI):\n",
    "    def Interest(self):\n",
    "        print(\"HDFC 7%\")\n",
    "        \n",
    "s = SBI()\n",
    "h = HDFC()\n",
    "\n",
    "s.Interest()\n",
    "h.Interest()"
   ]
  }
 ],
 "metadata": {
  "kernelspec": {
   "display_name": "Python 3 (ipykernel)",
   "language": "python",
   "name": "python3"
  },
  "language_info": {
   "codemirror_mode": {
    "name": "ipython",
    "version": 3
   },
   "file_extension": ".py",
   "mimetype": "text/x-python",
   "name": "python",
   "nbconvert_exporter": "python",
   "pygments_lexer": "ipython3",
   "version": "3.10.0"
  }
 },
 "nbformat": 4,
 "nbformat_minor": 5
}
