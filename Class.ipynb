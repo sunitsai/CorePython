{
 "cells": [
  {
   "cell_type": "code",
   "execution_count": 4,
   "id": "b6261f14",
   "metadata": {},
   "outputs": [
    {
     "data": {
      "text/plain": [
       "10"
      ]
     },
     "execution_count": 4,
     "metadata": {},
     "output_type": "execute_result"
    }
   ],
   "source": [
    "b = 20 # Global Variable\n",
    "class Class1:\n",
    "    a = 10 # Local Variable\n",
    "    \n",
    "obj = Class1() # object of Class\n",
    "obj.a"
   ]
  },
  {
   "cell_type": "code",
   "execution_count": 7,
   "id": "68286fbe",
   "metadata": {},
   "outputs": [
    {
     "name": "stdout",
     "output_type": "stream",
     "text": [
      "Method 1\n"
     ]
    }
   ],
   "source": [
    "class Class2:\n",
    "    def meth1(self):\n",
    "        print(\"Method 1\")\n",
    "        \n",
    "obj1 = Class2()\n",
    "obj1.meth1()"
   ]
  },
  {
   "cell_type": "code",
   "execution_count": 1,
   "id": "a8786009",
   "metadata": {},
   "outputs": [
    {
     "name": "stdout",
     "output_type": "stream",
     "text": [
      "A : 10\n",
      "b : 20\n"
     ]
    }
   ],
   "source": [
    "class Class3:\n",
    "    def meth2(self,a,b):\n",
    "        print(\"A :\",a)\n",
    "        print(\"b :\",b)\n",
    "        \n",
    "obj3 = Class3()\n",
    "obj3.meth2(10,20)"
   ]
  },
  {
   "cell_type": "code",
   "execution_count": 4,
   "id": "fe2f168c",
   "metadata": {},
   "outputs": [
    {
     "name": "stdout",
     "output_type": "stream",
     "text": [
      "Parameter Constructor\n",
      "Method 1\n"
     ]
    }
   ],
   "source": [
    "class Classs:\n",
    "    def meth1(self):\n",
    "        print(\"Method 1\")\n",
    "    def __init__(self,a):\n",
    "        print(\"Parameter Constructor\")\n",
    "        \n",
    "c = Classs(10)\n",
    "c.meth1()"
   ]
  }
 ],
 "metadata": {
  "kernelspec": {
   "display_name": "Python 3 (ipykernel)",
   "language": "python",
   "name": "python3"
  },
  "language_info": {
   "codemirror_mode": {
    "name": "ipython",
    "version": 3
   },
   "file_extension": ".py",
   "mimetype": "text/x-python",
   "name": "python",
   "nbconvert_exporter": "python",
   "pygments_lexer": "ipython3",
   "version": "3.10.0"
  }
 },
 "nbformat": 4,
 "nbformat_minor": 5
}
