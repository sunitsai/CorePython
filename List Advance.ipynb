{
 "cells": [
  {
   "cell_type": "code",
   "execution_count": 4,
   "id": "b53051d4",
   "metadata": {},
   "outputs": [
    {
     "name": "stdout",
     "output_type": "stream",
     "text": [
      "List :  ['Panner', 'Kaju Curry', 'Sandwich', 'A', 'B', 'C', 1, 2, 3, 2, 10.5, 11.5, 12.5]\n"
     ]
    }
   ],
   "source": [
    "l1 = [\"Panner\",\"Kaju Curry\",\"Sandwich\",'A','B','C',1,2,3,2,10.5,11.5,12.5]\n",
    "print(\"List : \",l1)"
   ]
  },
  {
   "cell_type": "code",
   "execution_count": null,
   "id": "d25335c9",
   "metadata": {},
   "outputs": [],
   "source": []
  },
  {
   "cell_type": "markdown",
   "id": "32a36bef",
   "metadata": {},
   "source": [
    "# Update List"
   ]
  },
  {
   "cell_type": "code",
   "execution_count": 2,
   "id": "e867e2ed",
   "metadata": {},
   "outputs": [
    {
     "name": "stdout",
     "output_type": "stream",
     "text": [
      "Current List :  ['Panner', 'Kaju Curry', 'Sandwich', 'A', 'B', 'C', 1, 2, 3, 2, 10.5, 11.5, 12.5]\n",
      "*********After Using Insert Method*************\n",
      "*********After Using Append Method*************\n",
      "After Append : ['Panner', 'Kaju Curry', 'Sandwich', 'A', 'B', 'C', 1, 2, 3, 2, 10.5, 11.5, 12.5, 'Rusang']\n"
     ]
    }
   ],
   "source": [
    "print(\"Current List : \",l1)\n",
    "print(\"*********After Using Insert Method*************\")\n",
    "# l1.insert(2,\"Python\")\n",
    "# print(\"After update : \",l1)\n",
    "\n",
    "\n",
    "# print(\"*********After Using Index Method*************\")\n",
    "# l1[5] = \"Shivangi\"\n",
    "# print(\"After Update : \",l1)\n",
    "\n",
    "\n",
    "print(\"*********After Using Append Method*************\")\n",
    "l1.append(\"Rusang\")\n",
    "print(\"After Append :\",l1)"
   ]
  },
  {
   "cell_type": "markdown",
   "id": "ce036415",
   "metadata": {},
   "source": [
    "# Remove the Data from List"
   ]
  },
  {
   "cell_type": "code",
   "execution_count": 1,
   "id": "42dc4a6e",
   "metadata": {},
   "outputs": [
    {
     "ename": "NameError",
     "evalue": "name 'l1' is not defined",
     "output_type": "error",
     "traceback": [
      "\u001b[1;31m---------------------------------------------------------------------------\u001b[0m",
      "\u001b[1;31mNameError\u001b[0m                                 Traceback (most recent call last)",
      "\u001b[1;32m~\\AppData\\Local\\Temp/ipykernel_2888/1225712523.py\u001b[0m in \u001b[0;36m<module>\u001b[1;34m\u001b[0m\n\u001b[1;32m----> 1\u001b[1;33m \u001b[0mprint\u001b[0m\u001b[1;33m(\u001b[0m\u001b[1;34m\"Current List : \"\u001b[0m\u001b[1;33m,\u001b[0m\u001b[0ml1\u001b[0m\u001b[1;33m)\u001b[0m\u001b[1;33m\u001b[0m\u001b[1;33m\u001b[0m\u001b[0m\n\u001b[0m\u001b[0;32m      2\u001b[0m \u001b[1;31m# print(\"******After using remove() ************\")\u001b[0m\u001b[1;33m\u001b[0m\u001b[1;33m\u001b[0m\u001b[0m\n\u001b[0;32m      3\u001b[0m \u001b[1;31m# l1.remove(2)\u001b[0m\u001b[1;33m\u001b[0m\u001b[1;33m\u001b[0m\u001b[0m\n\u001b[0;32m      4\u001b[0m \u001b[1;31m# print(\"After Remove : \",l1)\u001b[0m\u001b[1;33m\u001b[0m\u001b[1;33m\u001b[0m\u001b[0m\n\u001b[0;32m      5\u001b[0m \u001b[1;33m\u001b[0m\u001b[0m\n",
      "\u001b[1;31mNameError\u001b[0m: name 'l1' is not defined"
     ]
    }
   ],
   "source": [
    "print(\"Current List : \",l1)\n",
    "# print(\"******After using remove() ************\")\n",
    "# l1.remove(2)\n",
    "# print(\"After Remove : \",l1)\n",
    "\n",
    "# print(\"******After using pop() ************\")\n",
    "# l1.pop()\n",
    "# print(\"After Pop : \",l1)\n",
    "\n",
    "\n",
    "# print(\"******After using del() ************\")\n",
    "# del l1[5]\n",
    "# print(\"After Del : \",l1)\n",
    "\n",
    "\n",
    "print(\"******After using clear() ************\")\n",
    "l1.clear()\n",
    "print(\"After Clear :\",l1)"
   ]
  },
  {
   "cell_type": "code",
   "execution_count": 3,
   "id": "5178f234",
   "metadata": {},
   "outputs": [
    {
     "name": "stdout",
     "output_type": "stream",
     "text": [
      "[1, 2, 3, 4, 5, 10.5, 11.5, 12.5, 13.5, 14.5]\n"
     ]
    }
   ],
   "source": [
    "ll1 = [1,2,3,4,5]\n",
    "ll2 = [10.5,11.5,12.5,13.5,14.5]\n",
    "\n",
    "result = ll1+ll2\n",
    "print(result)"
   ]
  },
  {
   "cell_type": "markdown",
   "id": "4c327f03",
   "metadata": {},
   "source": [
    "# List Slicing"
   ]
  },
  {
   "cell_type": "code",
   "execution_count": 10,
   "id": "6376a392",
   "metadata": {},
   "outputs": [
    {
     "name": "stdout",
     "output_type": "stream",
     "text": [
      "Current List : ['Panner', 'Kaju Curry', 'Sandwich', 'A', 'B', 'C', 1, 2, 3, 2, 10.5, 11.5, 12.5]\n",
      "*****Print value after index 1 *******\n",
      "['Kaju Curry', 'Sandwich', 'A', 'B', 'C', 1, 2, 3, 2, 10.5, 11.5, 12.5]\n",
      "*****Print value after index 1 alternate value *******\n",
      "['Kaju Curry', 'A', 'C', 2, 2, 11.5]\n",
      "*****Print value between index 1 to 6 *******\n",
      "['Kaju Curry', 'Sandwich', 'A', 'B', 'C', 1]\n",
      "*****Print last value *******\n",
      "12.5\n"
     ]
    }
   ],
   "source": [
    "print(\"Current List :\",l1)\n",
    "\n",
    "print(\"*****Print value after index 1 *******\")\n",
    "print(l1[1:])\n",
    "print(\"*****Print value after index 1 alternate value *******\")\n",
    "print(l1[1::2])\n",
    "print(\"*****Print value between index 1 to 6 *******\")\n",
    "print(l1[1:7])\n",
    "print(\"*****Print last value *******\")\n",
    "print(l1[-1])"
   ]
  },
  {
   "cell_type": "code",
   "execution_count": 15,
   "id": "9c1956e6",
   "metadata": {},
   "outputs": [
    {
     "name": "stdout",
     "output_type": "stream",
     "text": [
      "['Python', 'Java', 'Php', [1, 2, 3, 4, 5, ['A', 'B', 'C', 'D', (10.5, 11.5, 12.5, 13.5)]]]\n",
      "B\n"
     ]
    }
   ],
   "source": [
    "txt = [\"Python\",\"Java\",\"Php\",[1,2,3,4,5,['A','B','C','D',(10.5,11.5,12.5,13.5)]]]\n",
    "print(txt)\n",
    "\n",
    "print(txt[3][5][1])"
   ]
  }
 ],
 "metadata": {
  "kernelspec": {
   "display_name": "Python 3 (ipykernel)",
   "language": "python",
   "name": "python3"
  },
  "language_info": {
   "codemirror_mode": {
    "name": "ipython",
    "version": 3
   },
   "file_extension": ".py",
   "mimetype": "text/x-python",
   "name": "python",
   "nbconvert_exporter": "python",
   "pygments_lexer": "ipython3",
   "version": "3.10.0"
  }
 },
 "nbformat": 4,
 "nbformat_minor": 5
}
