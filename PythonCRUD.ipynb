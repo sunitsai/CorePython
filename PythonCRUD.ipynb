{
 "cells": [
  {
   "cell_type": "code",
   "execution_count": 1,
   "id": "3b617790",
   "metadata": {},
   "outputs": [
    {
     "name": "stdout",
     "output_type": "stream",
     "text": [
      "Requirement already satisfied: pymysql in c:\\users\\sunit\\appdata\\local\\programs\\python\\python310\\lib\\site-packages (1.0.2)\n",
      "Note: you may need to restart the kernel to use updated packages.\n"
     ]
    },
    {
     "name": "stderr",
     "output_type": "stream",
     "text": [
      "WARNING: You are using pip version 21.2.3; however, version 22.0.4 is available.\n",
      "You should consider upgrading via the 'C:\\Users\\sunit\\AppData\\Local\\Programs\\Python\\Python310\\python.exe -m pip install --upgrade pip' command.\n"
     ]
    }
   ],
   "source": [
    "pip install pymysql"
   ]
  },
  {
   "cell_type": "code",
   "execution_count": 2,
   "id": "0d1359e4",
   "metadata": {},
   "outputs": [
    {
     "name": "stdout",
     "output_type": "stream",
     "text": [
      "Insert , Select , SelectById, Update, DeleteInsert\n",
      "Name : Sunit\n",
      "Email : s@gmail.com\n",
      "City : Abad\n",
      "Data Inserted\n"
     ]
    }
   ],
   "source": [
    "import pymysql\n",
    "\n",
    "def CreateConnection():\n",
    "    return pymysql.connect(host=\"localhost\",database=\"studentdb\",user=\"root\",password=\"\",port=3306)\n",
    "\n",
    "\n",
    "def InsertData(name,email,city):\n",
    "    conn = CreateConnection()\n",
    "    cursor = conn.cursor()\n",
    "    args = (name,email,city)\n",
    "    query = \"insert into student(name,email,city)values(%s,%s,%s)\"\n",
    "    cursor.execute(query,args)\n",
    "    conn.commit()\n",
    "    print(\"Data Inserted\")\n",
    "    conn.close()\n",
    "\n",
    "\n",
    "def FetchAllData():\n",
    "    conn = CreateConnection()\n",
    "    cursor = conn.cursor()\n",
    "    query = \"select * from student\"\n",
    "    cursor.execute(query)\n",
    "    res = cursor.fetchall()\n",
    "    for i in res:\n",
    "        print(i)\n",
    "        \n",
    "def SelectById(id):\n",
    "    conn = CreateConnection()\n",
    "    cursor = conn.cursor()\n",
    "    args = (id)\n",
    "    query = \"select * from student where id=%s\"\n",
    "    cursor.execute(query,args)\n",
    "    res = cursor.fetchall()\n",
    "    print(res)\n",
    "    \n",
    "def UpdateData(name,email,city,ids):\n",
    "    conn = CreateConnection()\n",
    "    cursor = conn.cursor()\n",
    "    args = (name,email,city,ids)\n",
    "    query = \"update student set name=%s,email=%s,city=%s where id=%s\"\n",
    "    cursor.execute(query,args)\n",
    "    conn.commit()\n",
    "    print(\"Data Updated\")\n",
    "    conn.close()\n",
    "    \n",
    "def DeleteData(ids):\n",
    "    conn = CreateConnection()\n",
    "    cursor = conn.cursor()\n",
    "    args = (ids)\n",
    "    query = \"delete from student where id=%s\"\n",
    "    cursor.execute(query,args)\n",
    "    conn.commit()\n",
    "    print(\"Data Deleted\")\n",
    "    conn.close()\n",
    "\n",
    "    \n",
    "\n",
    "# n = input(\"Name : \")\n",
    "# e = input(\"Email : \")\n",
    "# c = input(\"City : \")\n",
    "# ids = int(input(\"ID : \"))\n",
    "\n",
    "choice = input(\"Insert , Select , SelectById, Update, Delete\")\n",
    "if choice == \"Insert\":\n",
    "    n = input(\"Name : \")\n",
    "    e = input(\"Email : \")\n",
    "    c = input(\"City : \")\n",
    "    InsertData(n,e,c)\n",
    "elif choice == \"Select\":\n",
    "    FetchAllData()\n",
    "elif choice == \"SelectById\":\n",
    "    ids = int(input(\"ID : \"))\n",
    "    SelectById(ids)\n",
    "elif choice == \"Update\":\n",
    "    n = input(\"Name : \")\n",
    "    e = input(\"Email : \")\n",
    "    c = input(\"City : \")\n",
    "    ids = int(input(\"ID : \"))\n",
    "    UpdateData(n,e,c,ids)\n",
    "elif choice == \"Delete\":\n",
    "    ids = int(input(\"ID : \"))\n",
    "    DeleteData(ids)\n",
    "\n"
   ]
  },
  {
   "cell_type": "markdown",
   "id": "4599395a",
   "metadata": {},
   "source": [
    "# Read the Sql data using pandas"
   ]
  },
  {
   "cell_type": "code",
   "execution_count": 4,
   "id": "31e837c1",
   "metadata": {},
   "outputs": [
    {
     "data": {
      "text/html": [
       "<div>\n",
       "<style scoped>\n",
       "    .dataframe tbody tr th:only-of-type {\n",
       "        vertical-align: middle;\n",
       "    }\n",
       "\n",
       "    .dataframe tbody tr th {\n",
       "        vertical-align: top;\n",
       "    }\n",
       "\n",
       "    .dataframe thead th {\n",
       "        text-align: right;\n",
       "    }\n",
       "</style>\n",
       "<table border=\"1\" class=\"dataframe\">\n",
       "  <thead>\n",
       "    <tr style=\"text-align: right;\">\n",
       "      <th></th>\n",
       "      <th>id</th>\n",
       "      <th>Name</th>\n",
       "      <th>Email</th>\n",
       "      <th>City</th>\n",
       "    </tr>\n",
       "  </thead>\n",
       "  <tbody>\n",
       "    <tr>\n",
       "      <th>0</th>\n",
       "      <td>1</td>\n",
       "      <td>Sunit</td>\n",
       "      <td>s@gmail.com</td>\n",
       "      <td>Abad</td>\n",
       "    </tr>\n",
       "  </tbody>\n",
       "</table>\n",
       "</div>"
      ],
      "text/plain": [
       "   id   Name        Email  City\n",
       "0   1  Sunit  s@gmail.com  Abad"
      ]
     },
     "execution_count": 4,
     "metadata": {},
     "output_type": "execute_result"
    }
   ],
   "source": [
    "import pandas as pd\n",
    "\n",
    "conn = CreateConnection()\n",
    "c = conn.cursor()\n",
    "c.execute('''\n",
    "          SELECT\n",
    "          *\n",
    "          FROM student\n",
    "          ''')\n",
    "\n",
    "# sqldata = pd.read_sql_query(,conn)\n",
    "# pd.read_s\n",
    "data = pd.DataFrame(c.fetchall(),columns=['id','Name','Email','City'])\n",
    "data"
   ]
  }
 ],
 "metadata": {
  "kernelspec": {
   "display_name": "Python 3 (ipykernel)",
   "language": "python",
   "name": "python3"
  },
  "language_info": {
   "codemirror_mode": {
    "name": "ipython",
    "version": 3
   },
   "file_extension": ".py",
   "mimetype": "text/x-python",
   "name": "python",
   "nbconvert_exporter": "python",
   "pygments_lexer": "ipython3",
   "version": "3.10.0"
  }
 },
 "nbformat": 4,
 "nbformat_minor": 5
}
