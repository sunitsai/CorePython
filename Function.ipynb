{
 "cells": [
  {
   "cell_type": "markdown",
   "id": "fbded562",
   "metadata": {},
   "source": [
    "# How to create a Function?\n"
   ]
  },
  {
   "cell_type": "code",
   "execution_count": 2,
   "id": "f06c4582",
   "metadata": {},
   "outputs": [
    {
     "name": "stdout",
     "output_type": "stream",
     "text": [
      "Method 1\n"
     ]
    }
   ],
   "source": [
    "def meth1():\n",
    "    print(\"Method 1\")\n",
    "    \n",
    "meth1()"
   ]
  },
  {
   "cell_type": "code",
   "execution_count": 4,
   "id": "27888c4b",
   "metadata": {},
   "outputs": [
    {
     "name": "stdout",
     "output_type": "stream",
     "text": [
      "A :  10\n"
     ]
    }
   ],
   "source": [
    "def meth2(a):\n",
    "    print(\"A : \",a)\n",
    "    \n",
    "meth2(10)"
   ]
  },
  {
   "cell_type": "code",
   "execution_count": 7,
   "id": "f965a674",
   "metadata": {},
   "outputs": [
    {
     "name": "stdout",
     "output_type": "stream",
     "text": [
      "Hello\n"
     ]
    }
   ],
   "source": [
    "def meth3():\n",
    "    return \"Hello\"\n",
    "\n",
    "meth3()\n",
    "print(meth3())"
   ]
  },
  {
   "cell_type": "code",
   "execution_count": 1,
   "id": "d8e527a8",
   "metadata": {},
   "outputs": [
    {
     "name": "stdout",
     "output_type": "stream",
     "text": [
      "Answer :  30\n"
     ]
    }
   ],
   "source": [
    "def meth4(a,b):\n",
    "    c = a+b\n",
    "    return c\n",
    "\n",
    "print(\"Answer : \",meth4(10,20))"
   ]
  },
  {
   "cell_type": "code",
   "execution_count": 3,
   "id": "e1b8a420",
   "metadata": {},
   "outputs": [
    {
     "name": "stdout",
     "output_type": "stream",
     "text": [
      "15\n",
      "20\n"
     ]
    }
   ],
   "source": [
    "# lambda args : expressions\n",
    "\n",
    "x = lambda a:a+10\n",
    "print(x(5))\n",
    "\n",
    "\n",
    "y = lambda a,b:a*b\n",
    "print(y(10,2))"
   ]
  }
 ],
 "metadata": {
  "kernelspec": {
   "display_name": "Python 3 (ipykernel)",
   "language": "python",
   "name": "python3"
  },
  "language_info": {
   "codemirror_mode": {
    "name": "ipython",
    "version": 3
   },
   "file_extension": ".py",
   "mimetype": "text/x-python",
   "name": "python",
   "nbconvert_exporter": "python",
   "pygments_lexer": "ipython3",
   "version": "3.10.0"
  }
 },
 "nbformat": 4,
 "nbformat_minor": 5
}
