{
 "cells": [
  {
   "cell_type": "markdown",
   "id": "4ec0bcf9",
   "metadata": {},
   "source": [
    "# While Loop"
   ]
  },
  {
   "cell_type": "code",
   "execution_count": 1,
   "id": "f4db996b",
   "metadata": {},
   "outputs": [
    {
     "name": "stdout",
     "output_type": "stream",
     "text": [
      "N : 5\n",
      "5\n",
      "9\n",
      "12\n",
      "14\n",
      "15\n",
      "Bye\n"
     ]
    }
   ],
   "source": [
    "# 5,9,12,14,15\n",
    "\n",
    "n = int(input(\"N : \"))\n",
    "sums = 0\n",
    "\n",
    "while(n>0):\n",
    "    sums = sums+n\n",
    "    print(sums)\n",
    "    n-=1\n",
    "    \n",
    "else:\n",
    "    print(\"Bye\")"
   ]
  },
  {
   "cell_type": "markdown",
   "id": "c351780c",
   "metadata": {},
   "source": [
    "# For Loop with variable"
   ]
  },
  {
   "cell_type": "code",
   "execution_count": 3,
   "id": "59bc657d",
   "metadata": {},
   "outputs": [
    {
     "name": "stdout",
     "output_type": "stream",
     "text": [
      "Masala Dosa  =  11\n",
      "Pav Bhaji  =  9\n",
      "Panner  =  6\n",
      "Kaju Curry  =  10\n"
     ]
    }
   ],
   "source": [
    "word = [\"Masala Dosa\",\"Pav Bhaji\",\"Panner\",\"Kaju Curry\"]\n",
    "\n",
    "for i in word:\n",
    "    print(i,\" = \",len(i))"
   ]
  },
  {
   "cell_type": "code",
   "execution_count": 7,
   "id": "d7fbbd3d",
   "metadata": {},
   "outputs": [
    {
     "name": "stdout",
     "output_type": "stream",
     "text": [
      "*\n",
      "**\n",
      "***\n",
      "****\n",
      "*****\n"
     ]
    }
   ],
   "source": [
    "# range(start,end,step)\n",
    "\n",
    "# *\n",
    "# **\n",
    "# ***\n",
    "# ****\n",
    "# *****\n",
    "\n",
    "for i in range(1,6):\n",
    "    for j in range(i):\n",
    "        print(\"*\",end=\"\")\n",
    "    print(\"\")"
   ]
  },
  {
   "cell_type": "code",
   "execution_count": 9,
   "id": "a6f1bd3a",
   "metadata": {},
   "outputs": [
    {
     "name": "stdout",
     "output_type": "stream",
     "text": [
      "*****\n",
      "****\n",
      "***\n",
      "**\n",
      "*\n"
     ]
    }
   ],
   "source": [
    "for i in range(5,0,-1):\n",
    "    for j in range(i):\n",
    "        print(\"*\",end=\"\")\n",
    "    print(\"\")"
   ]
  },
  {
   "cell_type": "code",
   "execution_count": null,
   "id": "c012173d",
   "metadata": {},
   "outputs": [],
   "source": [
    "1\n",
    "12\n",
    "123\n",
    "1234\n",
    "12345\n",
    "\n",
    "\n",
    "1\n",
    "10\n",
    "101\n",
    "1010\n",
    "10101\n",
    "\n",
    "\n",
    "1\n",
    "23\n",
    "456\n",
    "78910\n",
    "\n",
    "A\n",
    "AB\n",
    "ABC\n",
    "ABCD\n",
    "ABCDE\n",
    "\n",
    "\n",
    "A\n",
    "BC\n",
    "DEF\n",
    "GHIJ\n",
    "\n",
    "\n",
    "54321\n",
    "4321\n",
    "321\n",
    "21\n",
    "1\n",
    "\n",
    "*\n",
    "**\n",
    "***\n",
    "****\n",
    "*****\n",
    "****\n",
    "***\n",
    "**\n",
    "*\n",
    "\n",
    "*****\n",
    "****\n",
    "***\n",
    "**\n",
    "*\n",
    "**\n",
    "***\n",
    "****\n",
    "*****\n",
    "\n",
    "#\n",
    "$#\n",
    "$#$\n",
    "$#$#\n",
    "$#$#$"
   ]
  }
 ],
 "metadata": {
  "kernelspec": {
   "display_name": "Python 3 (ipykernel)",
   "language": "python",
   "name": "python3"
  },
  "language_info": {
   "codemirror_mode": {
    "name": "ipython",
    "version": 3
   },
   "file_extension": ".py",
   "mimetype": "text/x-python",
   "name": "python",
   "nbconvert_exporter": "python",
   "pygments_lexer": "ipython3",
   "version": "3.10.0"
  }
 },
 "nbformat": 4,
 "nbformat_minor": 5
}
