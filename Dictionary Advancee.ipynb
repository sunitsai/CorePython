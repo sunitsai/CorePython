{
 "cells": [
  {
   "cell_type": "code",
   "execution_count": 2,
   "id": "30125c91",
   "metadata": {},
   "outputs": [
    {
     "name": "stdout",
     "output_type": "stream",
     "text": [
      "Dict :  {1: 'Python', 2: 'Java', 'Php': 'Language', 'A': 'B', 'C': 'D', 10.5: 11.5, 12.5: 13.5}\n"
     ]
    }
   ],
   "source": [
    "d1 = {1:\"Python\",2:\"Java\",\"Php\":\"Language\",'A':'B','C':'D',10.5:11.5,12.5:13.5}\n",
    "print(\"Dict : \",d1)"
   ]
  },
  {
   "cell_type": "code",
   "execution_count": 5,
   "id": "175aca91",
   "metadata": {},
   "outputs": [
    {
     "data": {
      "text/plain": [
       "'Language'"
      ]
     },
     "execution_count": 5,
     "metadata": {},
     "output_type": "execute_result"
    }
   ],
   "source": [
    "d1['Php']"
   ]
  },
  {
   "cell_type": "code",
   "execution_count": 7,
   "id": "2dacbb0a",
   "metadata": {},
   "outputs": [
    {
     "name": "stdout",
     "output_type": "stream",
     "text": [
      "Update Dict :  {1: 'Python', 2: 'Java', 'Php': 'Language', 'A': 'Shivangi', 'C': 'D', 10.5: 11.5, 12.5: 13.5}\n"
     ]
    }
   ],
   "source": [
    "d1['A'] = \"Shivangi\"\n",
    "print(\"Update Dict : \",d1)"
   ]
  },
  {
   "cell_type": "code",
   "execution_count": 11,
   "id": "0976b563",
   "metadata": {},
   "outputs": [
    {
     "name": "stdout",
     "output_type": "stream",
     "text": [
      "dict_keys([1, 2, 'Php', 'A', 'C', 10.5, 12.5])\n",
      "dict_values(['Python', 'Java', 'Language', 'Shivangi', 'D', 11.5, 13.5])\n"
     ]
    }
   ],
   "source": [
    "x = d1.keys()\n",
    "print(x)\n",
    "\n",
    "y = d1.values()\n",
    "print(y)"
   ]
  },
  {
   "cell_type": "code",
   "execution_count": 13,
   "id": "50f416c7",
   "metadata": {},
   "outputs": [
    {
     "name": "stdout",
     "output_type": "stream",
     "text": [
      "{1: 'A', 2: 'B', 3: 'C', 4: [1, 2, 3, 4, 5], 5: (10.5, 11.5, 12.5, 13.5), 6: {'Php': 'Web', 'Java': 'HighLevel', 'Python': 'Smart'}}\n"
     ]
    }
   ],
   "source": [
    "d2 = {1:'A',2:'B',3:'C',4:[1,2,3,4,5],5:(10.5,11.5,12.5,13.5),6:{'Php':'Web','Java':\"HighLevel\",'Python':'Smart'}}\n",
    "print(d2)"
   ]
  },
  {
   "cell_type": "code",
   "execution_count": 25,
   "id": "3d5b874d",
   "metadata": {},
   "outputs": [
    {
     "ename": "SyntaxError",
     "evalue": "':' expected after dictionary key (Temp/ipykernel_19032/2434530108.py, line 4)",
     "output_type": "error",
     "traceback": [
      "\u001b[1;36m  File \u001b[1;32m\"C:\\Users\\sunit\\AppData\\Local\\Temp/ipykernel_19032/2434530108.py\"\u001b[1;36m, line \u001b[1;32m4\u001b[0m\n\u001b[1;33m    {\"Software\":[{\"Adobe\":[\"Photoshop\",\"XD\",\"Illustrator\"]},\u001b[0m\n\u001b[1;37m                                                            ^\u001b[0m\n\u001b[1;31mSyntaxError\u001b[0m\u001b[1;31m:\u001b[0m ':' expected after dictionary key\n"
     ]
    }
   ],
   "source": [
    "d3 = {\"Electronic\":{\"Mobile\":[\"Sumsung\",\"Sony\",\"Google Pixel\"]},\n",
    "                    \"Laptop\":[\"Hp\",\"Dell\",\"Asus\",\"Acer\",(45000,55000,65000,75000)],\n",
    "     \"Fruit\":{'Mango','Kiwi','Orange','Apple'},\n",
    "     {\"Software\":[{\"Adobe\":[\"Photoshop\",\"XD\",\"Illustrator\"]},\n",
    "                 {\"Coding\":(\"Eclipse\",\"PyCharm\",\"Jupyter\",\"VS Code\")}]}}\n",
    "print(d3)"
   ]
  },
  {
   "cell_type": "code",
   "execution_count": 5,
   "id": "76b69491",
   "metadata": {},
   "outputs": [
    {
     "name": "stdout",
     "output_type": "stream",
     "text": [
      "{'Electronic': {'Mobile': ['Sumsung', 'Sony', 'Google Pixel']}, 'Laptop': ['Hp', 'Dell', 'Asus', 'Acer', (45000, 55000, 65000, 75000)], 'Fruit': ('Mango', 'Kiwi', 'Orange', 'Apple'), 'Software': [{'Adobe': ['Photoshop', 'XD', 'Illustrator']}, {'Coding': ('Eclipse', 'PyCharm', 'Jupyter', 'VS Code')}]}\n"
     ]
    }
   ],
   "source": [
    "d3 = {\n",
    "    \"Electronic\":{\"Mobile\":[\"Sumsung\",\"Sony\",\"Google Pixel\"]},\n",
    "    \"Laptop\":[\"Hp\",\"Dell\",\"Asus\",\"Acer\",(45000,55000,65000,75000)],\n",
    "    \"Fruit\":('Mango','Kiwi','Orange','Apple'),\n",
    "    \"Software\":[{\"Adobe\":[\"Photoshop\",\"XD\",\"Illustrator\"]},\n",
    "    {\"Coding\":(\"Eclipse\",\"PyCharm\",\"Jupyter\",\"VS Code\")}]\n",
    "}\n",
    "print(d3)"
   ]
  },
  {
   "cell_type": "code",
   "execution_count": 6,
   "id": "3a15afbb",
   "metadata": {},
   "outputs": [
    {
     "name": "stdout",
     "output_type": "stream",
     "text": [
      "{'Fashion': {'MensWear': {'Tshirt': ['Casual Tshirt', 'Sport Tshirt', 'Polo Tshirt', 'Round Neck Tshirt'], 'Footwear': ['Sport Shoes', 'Formal Shoes', 'Casual Shoes'], 'Jeans': ['Levis', 'Pepe Jeans', 'Lee', 'Spykar']}, 'KidsWear': {'Footwear': {'Heels': ['Boots', 'Wedges', 'Platforms'], 'Shoes': ['Sport Shoes', 'Casual Shoes', 'Ballets, Boots']}, 'Tshirt': ['Casual Tshirt', 'Sport Tshirt', 'Polo Tshirt', 'Round Neck Tshirt']}}, 'Mobile': {'Case': ['Xiaomi', 'Samsung', 'Oneplus', 'Apple'], 'PowerBank': ['MI', 'OnePlus', 'Philips', 'Redmi'], 'Brands': ['Apple', 'Oppo', 'Vivo', 'MI', 'Xiaomi', 'Samsung', {'price': [55000, 45000, 35000, 30000, 25000, 20000]}]}}\n"
     ]
    }
   ],
   "source": [
    "Ecommerce = {\n",
    "    \"Fashion\":{\n",
    "        \"MensWear\":{\n",
    "            \"Tshirt\":[\"Casual Tshirt\",\"Sport Tshirt\",\"Polo Tshirt\",\"Round Neck Tshirt\"],\n",
    "            \"Footwear\":[\"Sport Shoes\",\"Formal Shoes\",\"Casual Shoes\"],\n",
    "            \"Jeans\":[\"Levis\", \"Pepe Jeans\", \"Lee\", \"Spykar\"]\n",
    "        },\n",
    "        \"KidsWear\":{\n",
    "            \"Footwear\":{\n",
    "                \"Heels\":[\"Boots\", \"Wedges\",\"Platforms\"],\n",
    "                \"Shoes\":[\"Sport Shoes\", \"Casual Shoes\", \"Ballets, Boots\"]\n",
    "            },\n",
    "            \"Tshirt\":[\"Casual Tshirt\",\"Sport Tshirt\",\"Polo Tshirt\",\"Round Neck Tshirt\"],\n",
    "        }\n",
    "    },\n",
    "    \"Mobile\":{\n",
    "        \"Case\":[\"Xiaomi\",\"Samsung\",\"Oneplus\",\"Apple\"],\n",
    "        \"PowerBank\":[\"MI\", \"OnePlus\", \"Philips\", \"Redmi\"],\n",
    "        \"Brands\":[\"Apple\",\"Oppo\",\"Vivo\",\"MI\",\"Xiaomi\",\"Samsung\",{\n",
    "            \"price\":[55000,45000,35000,30000,25000,20000]\n",
    "        }]\n",
    "    },\n",
    "\n",
    "}\n",
    "print(Ecommerce)"
   ]
  }
 ],
 "metadata": {
  "kernelspec": {
   "display_name": "Python 3 (ipykernel)",
   "language": "python",
   "name": "python3"
  },
  "language_info": {
   "codemirror_mode": {
    "name": "ipython",
    "version": 3
   },
   "file_extension": ".py",
   "mimetype": "text/x-python",
   "name": "python",
   "nbconvert_exporter": "python",
   "pygments_lexer": "ipython3",
   "version": "3.10.0"
  }
 },
 "nbformat": 4,
 "nbformat_minor": 5
}
