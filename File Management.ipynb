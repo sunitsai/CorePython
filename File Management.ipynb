{
 "cells": [
  {
   "cell_type": "code",
   "execution_count": 2,
   "id": "ccd90163",
   "metadata": {},
   "outputs": [
    {
     "name": "stdout",
     "output_type": "stream",
     "text": [
      "File Created\n"
     ]
    }
   ],
   "source": [
    "s = \"This is my file management\"\n",
    "file = open(\"data1.txt\",\"w\")\n",
    "file.write(s)\n",
    "print(\"File Created\")\n",
    "file.close()"
   ]
  },
  {
   "cell_type": "code",
   "execution_count": 4,
   "id": "df090aba",
   "metadata": {},
   "outputs": [
    {
     "name": "stdout",
     "output_type": "stream",
     "text": [
      "This is my file management\n"
     ]
    }
   ],
   "source": [
    "file = open(\"data1.txt\",\"r\")\n",
    "filecontent = file.read()\n",
    "print(filecontent)"
   ]
  },
  {
   "cell_type": "code",
   "execution_count": 6,
   "id": "26e9d323",
   "metadata": {},
   "outputs": [
    {
     "name": "stdout",
     "output_type": "stream",
     "text": [
      "File Created\n"
     ]
    }
   ],
   "source": [
    "l1 = [\"Panner\",\"Mandu Wada\",\"Pizza\"]\n",
    "file = open(\"data2.txt\",\"w\")\n",
    "file.writelines(l1)\n",
    "print(\"File Created\")\n",
    "file.close() "
   ]
  },
  {
   "cell_type": "code",
   "execution_count": 7,
   "id": "8796555a",
   "metadata": {},
   "outputs": [
    {
     "name": "stdout",
     "output_type": "stream",
     "text": [
      "['PannerMandu WadaPizza']\n"
     ]
    }
   ],
   "source": [
    "file = open(\"data2.txt\",\"r\")\n",
    "filecont = file.readlines()\n",
    "print(filecont)"
   ]
  }
 ],
 "metadata": {
  "kernelspec": {
   "display_name": "Python 3 (ipykernel)",
   "language": "python",
   "name": "python3"
  },
  "language_info": {
   "codemirror_mode": {
    "name": "ipython",
    "version": 3
   },
   "file_extension": ".py",
   "mimetype": "text/x-python",
   "name": "python",
   "nbconvert_exporter": "python",
   "pygments_lexer": "ipython3",
   "version": "3.10.0"
  }
 },
 "nbformat": 4,
 "nbformat_minor": 5
}
