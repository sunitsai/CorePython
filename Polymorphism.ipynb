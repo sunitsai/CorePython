{
 "cells": [
  {
   "cell_type": "markdown",
   "id": "d9f15079",
   "metadata": {},
   "source": [
    "# Method Overloading"
   ]
  },
  {
   "cell_type": "code",
   "execution_count": 3,
   "id": "4845aafb",
   "metadata": {},
   "outputs": [
    {
     "name": "stdout",
     "output_type": "stream",
     "text": [
      "2 args\n"
     ]
    }
   ],
   "source": [
    "class MO:\n",
    "    def meth1(self):\n",
    "        print(\"0 args\")\n",
    "    \n",
    "    def meth1(self,a):\n",
    "        print(\"1 args\")\n",
    "        \n",
    "    def meth1(self,a,b):\n",
    "        print(\"2 args\")\n",
    "        \n",
    "m = MO()\n",
    "m.meth1(10,20)"
   ]
  },
  {
   "cell_type": "markdown",
   "id": "4199be79",
   "metadata": {},
   "source": [
    "# Method Overriding"
   ]
  },
  {
   "cell_type": "code",
   "execution_count": 5,
   "id": "8fe6a907",
   "metadata": {},
   "outputs": [
    {
     "name": "stdout",
     "output_type": "stream",
     "text": [
      "MO3 Method 1\n",
      "MO2 Method 1\n",
      "MO1 Method 1\n"
     ]
    }
   ],
   "source": [
    "class MO1:\n",
    "    def meth1(self):\n",
    "        print(\"MO1 Method 1\")\n",
    "class MO2(MO1):\n",
    "    def meth1(self):\n",
    "        print(\"MO2 Method 1\")\n",
    "        super().meth1()\n",
    "class MO3(MO2):\n",
    "    def meth1(self):\n",
    "        print(\"MO3 Method 1\")\n",
    "        super().meth1()\n",
    "        \n",
    "m = MO3()\n",
    "m.meth1()"
   ]
  }
 ],
 "metadata": {
  "kernelspec": {
   "display_name": "Python 3 (ipykernel)",
   "language": "python",
   "name": "python3"
  },
  "language_info": {
   "codemirror_mode": {
    "name": "ipython",
    "version": 3
   },
   "file_extension": ".py",
   "mimetype": "text/x-python",
   "name": "python",
   "nbconvert_exporter": "python",
   "pygments_lexer": "ipython3",
   "version": "3.10.0"
  }
 },
 "nbformat": 4,
 "nbformat_minor": 5
}
